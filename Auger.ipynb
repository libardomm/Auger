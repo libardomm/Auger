{
 "cells": [
  {
   "cell_type": "code",
   "execution_count": 1,
   "metadata": {
    "collapsed": true
   },
   "outputs": [],
   "source": [
    "import csv\n",
    "with open('Dataset/wll_l2.dat', 'r') as input_file:\n",
    "    lines = input_file.readlines()\n",
    "    newLines = []\n",
    "    for line in lines:\n",
    "        newLine = line.strip(' ').split()\n",
    "        newLines.append(newLine)\n",
    "\n",
    "with open('Dataset/wll_l2.csv', 'w') as output_file:\n",
    "    file_writer = csv.writer(output_file)\n",
    "    file_writer.writerows(newLines)"
   ]
  },
  {
   "cell_type": "code",
   "execution_count": 2,
   "metadata": {
    "collapsed": true
   },
   "outputs": [],
   "source": [
    "import pandas as pd\n",
    "auger = pd.read_csv('Dataset/wll_l2.csv', names=['UTC second','Air temperature(C)','Relative Humidity(C)','Instantaneous wind speed (km/h)','Average wind speed (km/h)','Max wind speed (km/h)','Wind Direction (North=0, East=90)','Barometric Pressure (hPa)','Quality flag (see next table)'])"
   ]
  },
  {
   "cell_type": "code",
   "execution_count": 3,
   "metadata": {},
   "outputs": [
    {
     "data": {
      "text/html": [
       "<div>\n",
       "<style>\n",
       "    .dataframe thead tr:only-child th {\n",
       "        text-align: right;\n",
       "    }\n",
       "\n",
       "    .dataframe thead th {\n",
       "        text-align: left;\n",
       "    }\n",
       "\n",
       "    .dataframe tbody tr th {\n",
       "        vertical-align: top;\n",
       "    }\n",
       "</style>\n",
       "<table border=\"1\" class=\"dataframe\">\n",
       "  <thead>\n",
       "    <tr style=\"text-align: right;\">\n",
       "      <th></th>\n",
       "      <th>UTC second</th>\n",
       "      <th>Air temperature(C)</th>\n",
       "      <th>Relative Humidity(C)</th>\n",
       "      <th>Instantaneous wind speed (km/h)</th>\n",
       "      <th>Average wind speed (km/h)</th>\n",
       "      <th>Max wind speed (km/h)</th>\n",
       "      <th>Wind Direction (North=0, East=90)</th>\n",
       "      <th>Barometric Pressure (hPa)</th>\n",
       "      <th>Quality flag (see next table)</th>\n",
       "    </tr>\n",
       "  </thead>\n",
       "  <tbody>\n",
       "    <tr>\n",
       "      <th>0</th>\n",
       "      <td>1009843200</td>\n",
       "      <td>22.420</td>\n",
       "      <td>21.69</td>\n",
       "      <td>43.04</td>\n",
       "      <td>36.91</td>\n",
       "      <td>43.65</td>\n",
       "      <td>233.4</td>\n",
       "      <td>856.77</td>\n",
       "      <td>0</td>\n",
       "    </tr>\n",
       "    <tr>\n",
       "      <th>1</th>\n",
       "      <td>1009843500</td>\n",
       "      <td>22.450</td>\n",
       "      <td>21.62</td>\n",
       "      <td>34.28</td>\n",
       "      <td>38.26</td>\n",
       "      <td>42.43</td>\n",
       "      <td>219.9</td>\n",
       "      <td>856.77</td>\n",
       "      <td>0</td>\n",
       "    </tr>\n",
       "    <tr>\n",
       "      <th>2</th>\n",
       "      <td>1009843800</td>\n",
       "      <td>22.320</td>\n",
       "      <td>21.66</td>\n",
       "      <td>33.26</td>\n",
       "      <td>35.22</td>\n",
       "      <td>41.54</td>\n",
       "      <td>205.2</td>\n",
       "      <td>856.77</td>\n",
       "      <td>0</td>\n",
       "    </tr>\n",
       "    <tr>\n",
       "      <th>3</th>\n",
       "      <td>1009844100</td>\n",
       "      <td>22.205</td>\n",
       "      <td>22.05</td>\n",
       "      <td>33.26</td>\n",
       "      <td>35.22</td>\n",
       "      <td>41.54</td>\n",
       "      <td>205.2</td>\n",
       "      <td>856.77</td>\n",
       "      <td>1</td>\n",
       "    </tr>\n",
       "    <tr>\n",
       "      <th>4</th>\n",
       "      <td>1009844400</td>\n",
       "      <td>22.090</td>\n",
       "      <td>22.43</td>\n",
       "      <td>29.29</td>\n",
       "      <td>31.49</td>\n",
       "      <td>37.86</td>\n",
       "      <td>248.8</td>\n",
       "      <td>856.77</td>\n",
       "      <td>0</td>\n",
       "    </tr>\n",
       "  </tbody>\n",
       "</table>\n",
       "</div>"
      ],
      "text/plain": [
       "   UTC second  Air temperature(C)  Relative Humidity(C)  \\\n",
       "0  1009843200              22.420                 21.69   \n",
       "1  1009843500              22.450                 21.62   \n",
       "2  1009843800              22.320                 21.66   \n",
       "3  1009844100              22.205                 22.05   \n",
       "4  1009844400              22.090                 22.43   \n",
       "\n",
       "   Instantaneous wind speed (km/h)  Average wind speed (km/h)  \\\n",
       "0                            43.04                      36.91   \n",
       "1                            34.28                      38.26   \n",
       "2                            33.26                      35.22   \n",
       "3                            33.26                      35.22   \n",
       "4                            29.29                      31.49   \n",
       "\n",
       "   Max wind speed (km/h)  Wind Direction (North=0, East=90)  \\\n",
       "0                  43.65                              233.4   \n",
       "1                  42.43                              219.9   \n",
       "2                  41.54                              205.2   \n",
       "3                  41.54                              205.2   \n",
       "4                  37.86                              248.8   \n",
       "\n",
       "   Barometric Pressure (hPa)  Quality flag (see next table)  \n",
       "0                     856.77                              0  \n",
       "1                     856.77                              0  \n",
       "2                     856.77                              0  \n",
       "3                     856.77                              1  \n",
       "4                     856.77                              0  "
      ]
     },
     "execution_count": 3,
     "metadata": {},
     "output_type": "execute_result"
    }
   ],
   "source": [
    "auger.head()"
   ]
  },
  {
   "cell_type": "code",
   "execution_count": 4,
   "metadata": {},
   "outputs": [
    {
     "name": "stdout",
     "output_type": "stream",
     "text": [
      "<class 'pandas.core.frame.DataFrame'>\n",
      "RangeIndex: 1200340 entries, 0 to 1200339\n",
      "Data columns (total 9 columns):\n",
      "UTC second                           1200340 non-null int64\n",
      "Air temperature(C)                   1200340 non-null float64\n",
      "Relative Humidity(C)                 1200340 non-null float64\n",
      "Instantaneous wind speed (km/h)      1200340 non-null float64\n",
      "Average wind speed (km/h)            1200340 non-null float64\n",
      "Max wind speed (km/h)                1200340 non-null float64\n",
      "Wind Direction (North=0, East=90)    1200340 non-null float64\n",
      "Barometric Pressure (hPa)            1200340 non-null float64\n",
      "Quality flag (see next table)        1200340 non-null int64\n",
      "dtypes: float64(7), int64(2)\n",
      "memory usage: 82.4 MB\n"
     ]
    }
   ],
   "source": [
    "auger.info()"
   ]
  },
  {
   "cell_type": "markdown",
   "metadata": {
    "collapsed": true
   },
   "source": [
    "# Pero mas bien lokita"
   ]
  },
  {
   "cell_type": "markdown",
   "metadata": {
    "collapsed": true
   },
   "source": [
    "# aloha!!!"
   ]
  },
  {
   "cell_type": "code",
   "execution_count": null,
   "metadata": {
    "collapsed": true
   },
   "outputs": [],
   "source": []
  }
 ],
 "metadata": {
  "kernelspec": {
   "display_name": "Python 3",
   "language": "python",
   "name": "python3"
  },
  "language_info": {
   "codemirror_mode": {
    "name": "ipython",
    "version": 3
   },
   "file_extension": ".py",
   "mimetype": "text/x-python",
   "name": "python",
   "nbconvert_exporter": "python",
   "pygments_lexer": "ipython3",
   "version": "3.6.1"
  }
 },
 "nbformat": 4,
 "nbformat_minor": 2
}
