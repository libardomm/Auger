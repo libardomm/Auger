{
 "cells": [
  {
   "cell_type": "code",
   "execution_count": 1,
   "metadata": {
    "collapsed": true
   },
   "outputs": [],
   "source": [
    "import csv\n",
    "with open('Dataset/wll_l2.dat', 'r') as input_file:\n",
    "    lines = input_file.readlines()\n",
    "    newLines = []\n",
    "    for line in lines:\n",
    "        newLine = line.strip(' ').split()\n",
    "        newLines.append(newLine)\n",
    "\n",
    "with open('Dataset/wll_l2.csv', 'w') as output_file:\n",
    "    file_writer = csv.writer(output_file)\n",
    "    file_writer.writerows(newLines)"
   ]
  },
  {
   "cell_type": "code",
   "execution_count": 12,
   "metadata": {
    "collapsed": true
   },
   "outputs": [],
   "source": [
    "import pandas as pd\n",
    "auger = pd.read_csv('Dataset/wll_l2.csv', names=['UTC_second','Air_temperature(C)','Relative_Humidity(C)','Instantaneous_wind_speed','Average_wind_speed','Max_wind_speed','Wind_Direction','Barometric_Pressure)','QualityFlag'])"
   ]
  },
  {
   "cell_type": "code",
   "execution_count": 9,
   "metadata": {},
   "outputs": [
    {
     "data": {
      "text/html": [
       "<div>\n",
       "<style>\n",
       "    .dataframe thead tr:only-child th {\n",
       "        text-align: right;\n",
       "    }\n",
       "\n",
       "    .dataframe thead th {\n",
       "        text-align: left;\n",
       "    }\n",
       "\n",
       "    .dataframe tbody tr th {\n",
       "        vertical-align: top;\n",
       "    }\n",
       "</style>\n",
       "<table border=\"1\" class=\"dataframe\">\n",
       "  <thead>\n",
       "    <tr style=\"text-align: right;\">\n",
       "      <th></th>\n",
       "      <th>UTC_second</th>\n",
       "      <th>Air_temperature(C)</th>\n",
       "      <th>Relative_Humidity(C)</th>\n",
       "      <th>Instantaneous_wind_speed</th>\n",
       "      <th>Average_wind_speed</th>\n",
       "      <th>Max_wind_speed</th>\n",
       "      <th>Wind_Direction</th>\n",
       "      <th>Barometric_Pressure)</th>\n",
       "      <th>Qualityflag</th>\n",
       "    </tr>\n",
       "  </thead>\n",
       "  <tbody>\n",
       "    <tr>\n",
       "      <th>0</th>\n",
       "      <td>1009843200</td>\n",
       "      <td>22.420</td>\n",
       "      <td>21.69</td>\n",
       "      <td>43.04</td>\n",
       "      <td>36.91</td>\n",
       "      <td>43.65</td>\n",
       "      <td>233.4</td>\n",
       "      <td>856.77</td>\n",
       "      <td>0</td>\n",
       "    </tr>\n",
       "    <tr>\n",
       "      <th>1</th>\n",
       "      <td>1009843500</td>\n",
       "      <td>22.450</td>\n",
       "      <td>21.62</td>\n",
       "      <td>34.28</td>\n",
       "      <td>38.26</td>\n",
       "      <td>42.43</td>\n",
       "      <td>219.9</td>\n",
       "      <td>856.77</td>\n",
       "      <td>0</td>\n",
       "    </tr>\n",
       "    <tr>\n",
       "      <th>2</th>\n",
       "      <td>1009843800</td>\n",
       "      <td>22.320</td>\n",
       "      <td>21.66</td>\n",
       "      <td>33.26</td>\n",
       "      <td>35.22</td>\n",
       "      <td>41.54</td>\n",
       "      <td>205.2</td>\n",
       "      <td>856.77</td>\n",
       "      <td>0</td>\n",
       "    </tr>\n",
       "    <tr>\n",
       "      <th>3</th>\n",
       "      <td>1009844100</td>\n",
       "      <td>22.205</td>\n",
       "      <td>22.05</td>\n",
       "      <td>33.26</td>\n",
       "      <td>35.22</td>\n",
       "      <td>41.54</td>\n",
       "      <td>205.2</td>\n",
       "      <td>856.77</td>\n",
       "      <td>1</td>\n",
       "    </tr>\n",
       "    <tr>\n",
       "      <th>4</th>\n",
       "      <td>1009844400</td>\n",
       "      <td>22.090</td>\n",
       "      <td>22.43</td>\n",
       "      <td>29.29</td>\n",
       "      <td>31.49</td>\n",
       "      <td>37.86</td>\n",
       "      <td>248.8</td>\n",
       "      <td>856.77</td>\n",
       "      <td>0</td>\n",
       "    </tr>\n",
       "  </tbody>\n",
       "</table>\n",
       "</div>"
      ],
      "text/plain": [
       "   UTC_second  Air_temperature(C)  Relative_Humidity(C)  \\\n",
       "0  1009843200              22.420                 21.69   \n",
       "1  1009843500              22.450                 21.62   \n",
       "2  1009843800              22.320                 21.66   \n",
       "3  1009844100              22.205                 22.05   \n",
       "4  1009844400              22.090                 22.43   \n",
       "\n",
       "   Instantaneous_wind_speed  Average_wind_speed  Max_wind_speed  \\\n",
       "0                     43.04               36.91           43.65   \n",
       "1                     34.28               38.26           42.43   \n",
       "2                     33.26               35.22           41.54   \n",
       "3                     33.26               35.22           41.54   \n",
       "4                     29.29               31.49           37.86   \n",
       "\n",
       "   Wind_Direction  Barometric_Pressure)  Qualityflag  \n",
       "0           233.4                856.77            0  \n",
       "1           219.9                856.77            0  \n",
       "2           205.2                856.77            0  \n",
       "3           205.2                856.77            1  \n",
       "4           248.8                856.77            0  "
      ]
     },
     "execution_count": 9,
     "metadata": {},
     "output_type": "execute_result"
    }
   ],
   "source": [
    "auger.head()"
   ]
  },
  {
   "cell_type": "code",
   "execution_count": 10,
   "metadata": {},
   "outputs": [
    {
     "name": "stdout",
     "output_type": "stream",
     "text": [
      "<class 'pandas.core.frame.DataFrame'>\n",
      "RangeIndex: 1200340 entries, 0 to 1200339\n",
      "Data columns (total 9 columns):\n",
      "UTC_second                  1200340 non-null int64\n",
      "Air_temperature(C)          1200340 non-null float64\n",
      "Relative_Humidity(C)        1200340 non-null float64\n",
      "Instantaneous_wind_speed    1200340 non-null float64\n",
      "Average_wind_speed          1200340 non-null float64\n",
      "Max_wind_speed              1200340 non-null float64\n",
      "Wind_Direction              1200340 non-null float64\n",
      "Barometric_Pressure)        1200340 non-null float64\n",
      "Qualityflag                 1200340 non-null int64\n",
      "dtypes: float64(7), int64(2)\n",
      "memory usage: 82.4 MB\n"
     ]
    }
   ],
   "source": [
    "auger.info()"
   ]
  },
  {
   "cell_type": "code",
   "execution_count": 16,
   "metadata": {},
   "outputs": [
    {
     "data": {
      "text/html": [
       "<div>\n",
       "<style>\n",
       "    .dataframe thead tr:only-child th {\n",
       "        text-align: right;\n",
       "    }\n",
       "\n",
       "    .dataframe thead th {\n",
       "        text-align: left;\n",
       "    }\n",
       "\n",
       "    .dataframe tbody tr th {\n",
       "        vertical-align: top;\n",
       "    }\n",
       "</style>\n",
       "<table border=\"1\" class=\"dataframe\">\n",
       "  <thead>\n",
       "    <tr style=\"text-align: right;\">\n",
       "      <th></th>\n",
       "      <th>UTC_second</th>\n",
       "      <th>Air_temperature(C)</th>\n",
       "      <th>Relative_Humidity(C)</th>\n",
       "      <th>Instantaneous_wind_speed</th>\n",
       "      <th>Average_wind_speed</th>\n",
       "      <th>Max_wind_speed</th>\n",
       "      <th>Wind_Direction</th>\n",
       "      <th>Barometric_Pressure)</th>\n",
       "      <th>QualityFlag</th>\n",
       "    </tr>\n",
       "  </thead>\n",
       "  <tbody>\n",
       "    <tr>\n",
       "      <th>count</th>\n",
       "      <td>1.200340e+06</td>\n",
       "      <td>1.200340e+06</td>\n",
       "      <td>1.200340e+06</td>\n",
       "      <td>1.200340e+06</td>\n",
       "      <td>1.200340e+06</td>\n",
       "      <td>1.200340e+06</td>\n",
       "      <td>1.200340e+06</td>\n",
       "      <td>1.200340e+06</td>\n",
       "      <td>1.200340e+06</td>\n",
       "    </tr>\n",
       "    <tr>\n",
       "      <th>mean</th>\n",
       "      <td>1.252442e+09</td>\n",
       "      <td>1.258986e+01</td>\n",
       "      <td>4.539383e+01</td>\n",
       "      <td>9.779570e+00</td>\n",
       "      <td>9.775110e+00</td>\n",
       "      <td>2.766059e+01</td>\n",
       "      <td>1.867514e+02</td>\n",
       "      <td>8.617630e+02</td>\n",
       "      <td>1.256794e-01</td>\n",
       "    </tr>\n",
       "    <tr>\n",
       "      <th>std</th>\n",
       "      <td>1.419725e+08</td>\n",
       "      <td>8.535671e+00</td>\n",
       "      <td>2.459256e+01</td>\n",
       "      <td>9.653714e+00</td>\n",
       "      <td>9.429069e+00</td>\n",
       "      <td>1.061450e+02</td>\n",
       "      <td>1.031948e+02</td>\n",
       "      <td>4.106979e+00</td>\n",
       "      <td>3.314878e-01</td>\n",
       "    </tr>\n",
       "    <tr>\n",
       "      <th>min</th>\n",
       "      <td>1.009843e+09</td>\n",
       "      <td>-1.830000e+01</td>\n",
       "      <td>2.000000e+00</td>\n",
       "      <td>0.000000e+00</td>\n",
       "      <td>0.000000e+00</td>\n",
       "      <td>0.000000e+00</td>\n",
       "      <td>-1.000000e-01</td>\n",
       "      <td>8.434300e+02</td>\n",
       "      <td>0.000000e+00</td>\n",
       "    </tr>\n",
       "    <tr>\n",
       "      <th>25%</th>\n",
       "      <td>1.113005e+09</td>\n",
       "      <td>6.165000e+00</td>\n",
       "      <td>2.461000e+01</td>\n",
       "      <td>4.140000e+00</td>\n",
       "      <td>4.340000e+00</td>\n",
       "      <td>5.220000e+00</td>\n",
       "      <td>9.213000e+01</td>\n",
       "      <td>8.590300e+02</td>\n",
       "      <td>0.000000e+00</td>\n",
       "    </tr>\n",
       "    <tr>\n",
       "      <th>50%</th>\n",
       "      <td>1.271448e+09</td>\n",
       "      <td>1.230000e+01</td>\n",
       "      <td>4.229000e+01</td>\n",
       "      <td>6.903000e+00</td>\n",
       "      <td>6.850000e+00</td>\n",
       "      <td>8.630000e+00</td>\n",
       "      <td>2.033000e+02</td>\n",
       "      <td>8.617600e+02</td>\n",
       "      <td>0.000000e+00</td>\n",
       "    </tr>\n",
       "    <tr>\n",
       "      <th>75%</th>\n",
       "      <td>1.373956e+09</td>\n",
       "      <td>1.863000e+01</td>\n",
       "      <td>6.469000e+01</td>\n",
       "      <td>1.140000e+01</td>\n",
       "      <td>1.109000e+01</td>\n",
       "      <td>1.431000e+01</td>\n",
       "      <td>2.748000e+02</td>\n",
       "      <td>8.644400e+02</td>\n",
       "      <td>0.000000e+00</td>\n",
       "    </tr>\n",
       "    <tr>\n",
       "      <th>max</th>\n",
       "      <td>1.498611e+09</td>\n",
       "      <td>3.819000e+01</td>\n",
       "      <td>1.000000e+02</td>\n",
       "      <td>1.013000e+02</td>\n",
       "      <td>8.810000e+01</td>\n",
       "      <td>1.406000e+03</td>\n",
       "      <td>7.840000e+02</td>\n",
       "      <td>8.809700e+02</td>\n",
       "      <td>1.000000e+00</td>\n",
       "    </tr>\n",
       "  </tbody>\n",
       "</table>\n",
       "</div>"
      ],
      "text/plain": [
       "         UTC_second  Air_temperature(C)  Relative_Humidity(C)  \\\n",
       "count  1.200340e+06        1.200340e+06          1.200340e+06   \n",
       "mean   1.252442e+09        1.258986e+01          4.539383e+01   \n",
       "std    1.419725e+08        8.535671e+00          2.459256e+01   \n",
       "min    1.009843e+09       -1.830000e+01          2.000000e+00   \n",
       "25%    1.113005e+09        6.165000e+00          2.461000e+01   \n",
       "50%    1.271448e+09        1.230000e+01          4.229000e+01   \n",
       "75%    1.373956e+09        1.863000e+01          6.469000e+01   \n",
       "max    1.498611e+09        3.819000e+01          1.000000e+02   \n",
       "\n",
       "       Instantaneous_wind_speed  Average_wind_speed  Max_wind_speed  \\\n",
       "count              1.200340e+06        1.200340e+06    1.200340e+06   \n",
       "mean               9.779570e+00        9.775110e+00    2.766059e+01   \n",
       "std                9.653714e+00        9.429069e+00    1.061450e+02   \n",
       "min                0.000000e+00        0.000000e+00    0.000000e+00   \n",
       "25%                4.140000e+00        4.340000e+00    5.220000e+00   \n",
       "50%                6.903000e+00        6.850000e+00    8.630000e+00   \n",
       "75%                1.140000e+01        1.109000e+01    1.431000e+01   \n",
       "max                1.013000e+02        8.810000e+01    1.406000e+03   \n",
       "\n",
       "       Wind_Direction  Barometric_Pressure)   QualityFlag  \n",
       "count    1.200340e+06          1.200340e+06  1.200340e+06  \n",
       "mean     1.867514e+02          8.617630e+02  1.256794e-01  \n",
       "std      1.031948e+02          4.106979e+00  3.314878e-01  \n",
       "min     -1.000000e-01          8.434300e+02  0.000000e+00  \n",
       "25%      9.213000e+01          8.590300e+02  0.000000e+00  \n",
       "50%      2.033000e+02          8.617600e+02  0.000000e+00  \n",
       "75%      2.748000e+02          8.644400e+02  0.000000e+00  \n",
       "max      7.840000e+02          8.809700e+02  1.000000e+00  "
      ]
     },
     "execution_count": 16,
     "metadata": {},
     "output_type": "execute_result"
    }
   ],
   "source": [
    "auger.describe()"
   ]
  },
  {
   "cell_type": "code",
   "execution_count": 15,
   "metadata": {},
   "outputs": [
    {
     "data": {
      "text/plain": [
       "0    1049482\n",
       "1     150858\n",
       "Name: QualityFlag, dtype: int64"
      ]
     },
     "execution_count": 15,
     "metadata": {},
     "output_type": "execute_result"
    }
   ],
   "source": [
    "auger[\"QualityFlag\"].value_counts()"
   ]
  },
  {
   "cell_type": "code",
   "execution_count": 17,
   "metadata": {},
   "outputs": [
    {
     "data": {
      "image/png": "[encoded data removed]",
      "text/plain": [
       "<matplotlib.figure.Figure at 0x7f8c843f02e8>"
      ]
     },
     "metadata": {},
     "output_type": "display_data"
    }
   ],
   "source": [
    "%matplotlib inline\n",
    "import matplotlib.pyplot as plt\n",
    "auger.hist(bins=50, figsize=(20,15))\n",
    "plt.show()"
   ]
  },
  {
   "cell_type": "markdown",
   "metadata": {},
   "source": [
    "# Create a Test Set\n"
   ]
  },
  {
   "cell_type": "code",
   "execution_count": 18,
   "metadata": {
    "collapsed": true
   },
   "outputs": [],
   "source": [
    "from sklearn.model_selection import train_test_split\n",
    "train_set, test_set=train_test_split(auger, test_size=0.2, random_state=42)\n"
   ]
  },
  {
   "cell_type": "code",
   "execution_count": null,
   "metadata": {
    "collapsed": true
   },
   "outputs": [],
   "source": []
  }
 ],
 "metadata": {
  "kernelspec": {
   "display_name": "Python 3",
   "language": "python",
   "name": "python3"
  },
  "language_info": {
   "codemirror_mode": {
    "name": "ipython",
    "version": 3
   },
   "file_extension": ".py",
   "mimetype": "text/x-python",
   "name": "python",
   "nbconvert_exporter": "python",
   "pygments_lexer": "ipython3",
   "version": "3.6.1"
  }
 },
 "nbformat": 4,
 "nbformat_minor": 2
}
